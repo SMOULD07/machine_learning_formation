{
 "cells": [
  {
   "cell_type": "code",
   "execution_count": 7,
   "id": "0101f3e6-a900-466e-a101-d40400f82917",
   "metadata": {},
   "outputs": [
    {
     "name": "stdout",
     "output_type": "stream",
     "text": [
      "21\n",
      "[2.5 3.5 4.5]\n"
     ]
    }
   ],
   "source": [
    "import numpy as np\n",
    "A = np.array ([[1,2,3],[4,5,6]])\n",
    "A\n",
    "\n",
    "print (A.sum())\n",
    "print (A.mean(axis=0))"
   ]
  },
  {
   "cell_type": "code",
   "execution_count": 19,
   "id": "6bef2ff3-dcaa-4a3a-84cf-80ea2b4daa4c",
   "metadata": {},
   "outputs": [
    {
     "name": "stdout",
     "output_type": "stream",
     "text": [
      "[[2 4 4 0 7]\n",
      " [8 3 5 8 6]\n",
      " [2 8 5 2 2]\n",
      " [6 0 7 5 4]\n",
      " [1 9 0 5 6]]\n",
      "[[3 0 1 2 4]\n",
      " [1 2 4 0 3]\n",
      " [0 3 4 2 1]\n",
      " [1 4 3 0 2]\n",
      " [2 0 3 4 1]]\n",
      "[4 0 2 3 1]\n"
     ]
    }
   ],
   "source": [
    "B = np.random.randint( 0 , 10, [5 ,5])\n",
    "print(B)\n",
    "print(B.argsort())  # retourner les indexs pour trier chaque ligne du tableau \n",
    "print (B [ : , 0].argsort()) # retourne les indices pour trier la 1 ere colonne de B \n"
   ]
  },
  {
   "cell_type": "code",
   "execution_count": 37,
   "id": "75650230-e452-4813-85c5-fb4f67d5480e",
   "metadata": {},
   "outputs": [
    {
     "name": "stdout",
     "output_type": "stream",
     "text": [
      "[[5 0 3 3 7]\n",
      " [9 3 5 2 4]\n",
      " [7 6 8 8 1]\n",
      " [6 7 7 8 1]\n",
      " [5 9 8 9 4]]\n",
      "(array([0, 1, 2, 3, 4, 5, 6, 7, 8, 9]), array([ 1, 14,  8,  2,  9,  0, 11,  4, 12,  5], dtype=int64), array([1, 2, 1, 3, 2, 3, 2, 4, 4, 3], dtype=int64))\n"
     ]
    }
   ],
   "source": [
    "# STATISTIQUES \n",
    "np.random.seed(0)\n",
    "A = np.random.randint(0, 10, [5,5])\n",
    "print(A)\n",
    "print(np.unique(A, return_index= True, return_counts = True )) "
   ]
  },
  {
   "cell_type": "code",
   "execution_count": null,
   "id": "c62cf558-a7b7-40f3-b7ac-347ef64c3d7d",
   "metadata": {},
   "outputs": [],
   "source": []
  }
 ],
 "metadata": {
  "kernelspec": {
   "display_name": "Python 3 (ipykernel)",
   "language": "python",
   "name": "python3"
  },
  "language_info": {
   "codemirror_mode": {
    "name": "ipython",
    "version": 3
   },
   "file_extension": ".py",
   "mimetype": "text/x-python",
   "name": "python",
   "nbconvert_exporter": "python",
   "pygments_lexer": "ipython3",
   "version": "3.12.4"
  }
 },
 "nbformat": 4,
 "nbformat_minor": 5
}
