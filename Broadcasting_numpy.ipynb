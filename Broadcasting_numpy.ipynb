{
 "cells": [
  {
   "cell_type": "code",
   "execution_count": 10,
   "id": "084cc7e1-3e74-4a24-a12d-1e145d7b03d4",
   "metadata": {},
   "outputs": [
    {
     "name": "stdout",
     "output_type": "stream",
     "text": [
      "[[4. 4. 4.]\n",
      " [4. 4. 4.]]\n"
     ]
    }
   ],
   "source": [
    "import numpy as np \n",
    "A = np.ones((2, 3))\n",
    "B = 3\n",
    "print(A+B) # résultat 1\n",
    "\n"
   ]
  },
  {
   "cell_type": "code",
   "execution_count": 8,
   "id": "9f6d42e6-4bfd-4bdf-a14f-fab08b0b4f4f",
   "metadata": {},
   "outputs": [
    {
     "name": "stdout",
     "output_type": "stream",
     "text": [
      "[[2. 2. 2.]\n",
      " [2. 2. 2.]]\n"
     ]
    }
   ],
   "source": [
    "\n",
    "C = np.ones((2, 3))\n",
    "D = np.ones((2, 1)) # D a une colonne, elle sera étendu sur les trois colonnes de C\n",
    "print(C+D) # résultat 2"
   ]
  },
  {
   "cell_type": "code",
   "execution_count": 16,
   "id": "ea07ce57-a696-43fe-8b2b-9c3f4fce0c88",
   "metadata": {},
   "outputs": [
    {
     "name": "stdout",
     "output_type": "stream",
     "text": [
      "[[2. 2.]\n",
      " [2. 2.]\n",
      " [2. 2.]]\n"
     ]
    }
   ],
   "source": [
    "\n",
    "C = np.ones((3, 2))\n",
    "D = np.ones((1, 2)) \n",
    "print(C+D) # résultat 2"
   ]
  },
  {
   "cell_type": "code",
   "execution_count": null,
   "id": "ef0fe029-cb6f-45ab-b217-d468dad92185",
   "metadata": {},
   "outputs": [],
   "source": []
  }
 ],
 "metadata": {
  "kernelspec": {
   "display_name": "Python 3 (ipykernel)",
   "language": "python",
   "name": "python3"
  },
  "language_info": {
   "codemirror_mode": {
    "name": "ipython",
    "version": 3
   },
   "file_extension": ".py",
   "mimetype": "text/x-python",
   "name": "python",
   "nbconvert_exporter": "python",
   "pygments_lexer": "ipython3",
   "version": "3.12.4"
  }
 },
 "nbformat": 4,
 "nbformat_minor": 5
}
